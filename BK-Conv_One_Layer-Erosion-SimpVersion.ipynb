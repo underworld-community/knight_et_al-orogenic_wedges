{
 "cells": [
  {
   "cell_type": "markdown",
   "metadata": {},
   "source": [
    "# Lithospheric Convergence Model\n",
    "#### Ben Knight\n",
    "###### Monash University"
   ]
  },
  {
   "cell_type": "code",
   "execution_count": null,
   "metadata": {},
   "outputs": [],
   "source": [
    "import underworld as uw\n",
    "import underworld.function as fn\n",
    "import UWGeodynamics as GEO\n",
    "import os\n",
    "from datetime import datetime\n",
    "import pytz\n",
    "import numpy as np\n",
    "import math\n",
    "import matplotlib.pyplot as plt\n",
    "import pandas as pd\n",
    "import underworld.visualisation as visualisation"
   ]
  },
  {
   "cell_type": "markdown",
   "metadata": {},
   "source": [
    "### Erosion functions"
   ]
  },
  {
   "cell_type": "code",
   "execution_count": null,
   "metadata": {},
   "outputs": [],
   "source": [
    "from UW2DsurfaceProcesses import diffusiveSurfaceErosion, velocitySurfaceErosion"
   ]
  },
  {
   "cell_type": "code",
   "execution_count": null,
   "metadata": {},
   "outputs": [],
   "source": [
    "u = GEO.UnitRegistry\n",
    "\n",
    "GEO.rcParams[\"initial.nonlinear.tolerance\"] = 1e-2\n",
    "GEO.rcParams['initial.nonlinear.max.iterations'] = 50\n",
    "\n",
    "GEO.rcParams[\"nonlinear.tolerance\"] = 1e-2\n",
    "GEO.rcParams['nonlinear.max.iterations'] = 50\n",
    "\n",
    "GEO.rcParams[\"popcontrol.particles.per.cell.2D\"] = 30\n",
    "GEO.rcParams[\"swarm.particles.per.cell.2D\"] = 30"
   ]
  },
  {
   "cell_type": "code",
   "execution_count": null,
   "metadata": {},
   "outputs": [],
   "source": [
    "restart = False"
   ]
  },
  {
   "cell_type": "markdown",
   "metadata": {},
   "source": [
    "### Values to change"
   ]
  },
  {
   "cell_type": "code",
   "execution_count": null,
   "metadata": {},
   "outputs": [],
   "source": [
    "conv_vel = 5.\n",
    "crustalthickness = 25.0\n",
    "\n",
    "crust_transition = 700.0"
   ]
  },
  {
   "cell_type": "markdown",
   "metadata": {},
   "source": [
    "### Setup of box"
   ]
  },
  {
   "cell_type": "code",
   "execution_count": null,
   "metadata": {},
   "outputs": [],
   "source": [
    "u = GEO.UnitRegistry\n",
    "\n",
    "Sticky_air = 30.0\n",
    "x_box = 1200.0\n",
    "y_box = 300.0 - Sticky_air\n",
    "\n",
    "\n",
    "Depth_of_box = y_box * u.kilometer\n",
    "model_length = x_box * u.kilometer\n",
    "\n",
    "x_res  = 2**7 \n",
    "y_res =  2**5\n",
    "\n",
    "\n",
    "resolution = (x_box/x_res)\n"
   ]
  },
  {
   "cell_type": "code",
   "execution_count": null,
   "metadata": {},
   "outputs": [],
   "source": [
    "# Total_Convergence = 600.0\n",
    "Total_Time = 10.0 #Total_Convergence / (10*conv_vel)\n",
    "The_Checkpoint_interval = 1.0 #Total_Time / 40."
   ]
  },
  {
   "cell_type": "code",
   "execution_count": null,
   "metadata": {},
   "outputs": [],
   "source": [
    "if uw.mpi.rank == 0:\n",
    "    print(x_res,y_res)\n",
    "    print(Total_Time)\n",
    "    print(The_Checkpoint_interval)\n",
    "    \n",
    "uw.mpi.barrier()\n",
    "\n"
   ]
  },
  {
   "cell_type": "markdown",
   "metadata": {},
   "source": [
    "## Scaling"
   ]
  },
  {
   "cell_type": "code",
   "execution_count": null,
   "metadata": {},
   "outputs": [],
   "source": [
    "half_rate = 1. * u.centimeter / u.year\n",
    "length_scale = 300.0 * u.kilometer\n",
    "surfaceTemp = 273.15 * u.degK\n",
    "baseModelTemp = 1573.15 * u.degK\n",
    "bodyforce = 3300 * u.kilogram / u.metre**3 * 9.81 * u.meter / u.second**2\n",
    "\n",
    "KL = length_scale\n",
    "Kt = KL / half_rate\n",
    "KM = bodyforce * KL**2 * Kt**2\n",
    "KT = (baseModelTemp - surfaceTemp)\n",
    "\n",
    "GEO.scaling_coefficients[\"[length]\"] = KL\n",
    "GEO.scaling_coefficients[\"[time]\"] = Kt\n",
    "GEO.scaling_coefficients[\"[mass]\"]= KM\n",
    "GEO.scaling_coefficients[\"[temperature]\"] = KT\n",
    "\n",
    "\n",
    "\n",
    "### Scaling\n",
    "if uw.mpi.rank == 0:\n",
    "    print('Length, km = ', GEO.dimensionalise(1., u.kilometer))\n",
    "    print('Time, Myr = ',GEO.dimensionalise(1., u.megayear))\n",
    "    print('Pressure, MPa = ',GEO.dimensionalise(1., u.megapascal))\n",
    "    print('Temperature, K = ',GEO.dimensionalise(1., u.degK))\n",
    "    print('Velocity, cm/yr = ',GEO.dimensionalise(1., u.centimeter / u.year))\n",
    "    print('Viscosity, Pa S = ',GEO.dimensionalise(1.,u.pascal * u.second))"
   ]
  },
  {
   "cell_type": "markdown",
   "metadata": {},
   "source": [
    "# Define the external geometry\n",
    "\n",
    "The first step is to define the geometry of our problem, essentially a box on which we will apply some physical constraints and that will contain a set of materials. We can think of it as an \"universe\".\n",
    "The \"laws\" and their effects are calculated on a mesh, that mesh discretized our universe into finite elements.\n",
    "\n",
    "The geodynamics module allows you to quickly set up a model by creating a *Model* object.\n",
    "A series of arguments are required to define a *Model*:\n",
    "\n",
    "    - The number of elements in each direction elementRes=(nx, ny);\n",
    "    - The minimum coordinates for each axis minCoord=(minX, minY)\n",
    "    - The maximum coordinates for each axis maxCoord=(maxX, maxY)\n",
    "    - A vector that defines the magnitude and direction of the gravity components gravity=(gx, gy)\n",
    " "
   ]
  },
  {
   "cell_type": "code",
   "execution_count": null,
   "metadata": {},
   "outputs": [],
   "source": [
    "Model = GEO.Model(elementRes=(x_res, y_res),\n",
    "                  minCoord=(0. * u.kilometer, -1.*Depth_of_box),\n",
    "                  maxCoord=(model_length, Sticky_air * u.kilometer),\n",
    "                  gravity=(0.0, -9.81 * u.meter / u.second**2))"
   ]
  },
  {
   "cell_type": "code",
   "execution_count": null,
   "metadata": {},
   "outputs": [],
   "source": [
    "today = datetime.now(pytz.timezone('Australia/Melbourne'))\n",
    "if restart == False:\n",
    "    Model.outputDir = os.path.join(str(crustalthickness) + 'km-CT_Erosion-LR_' + str(conv_vel) + \"cmyr_\"  + today.strftime('%Y-%m-%d_%H-%M') + \"/\")\n",
    "\n",
    "    directory = os.getcwd() +'/'+ Model.outputDir\n",
    "\n",
    "if restart == True:\n",
    "    RestartDirectory = os.getcwd()\n",
    "    directory = RestartDirectory"
   ]
  },
  {
   "cell_type": "markdown",
   "metadata": {},
   "source": [
    "# Add some additional swarm/mesh variables"
   ]
  },
  {
   "cell_type": "code",
   "execution_count": null,
   "metadata": {},
   "outputs": [],
   "source": [
    "Model.diffusivity = 1e-6 * u.metre**2 / u.second \n",
    "Model.capacity    = 1000. * u.joule / (u.kelvin * u.kilogram)"
   ]
  },
  {
   "cell_type": "markdown",
   "metadata": {},
   "source": [
    "# Add some Materials"
   ]
  },
  {
   "cell_type": "code",
   "execution_count": null,
   "metadata": {},
   "outputs": [],
   "source": [
    "air = Model.add_material(name=\"Air\", shape=GEO.shapes.Layer(top=Model.top, bottom=0. * u.kilometer))"
   ]
  },
  {
   "cell_type": "code",
   "execution_count": null,
   "metadata": {},
   "outputs": [],
   "source": [
    "## Upper crust\n",
    "crust1 = Model.add_material(name=\"Crust1\")\n",
    "crust2 = Model.add_material(name=\"Crust2\")\n",
    "crust3 = Model.add_material(name=\"Crust3\")\n",
    "crust4 = Model.add_material(name=\"Crust4\")"
   ]
  },
  {
   "cell_type": "markdown",
   "metadata": {},
   "source": [
    "## create a layered crust"
   ]
  },
  {
   "cell_type": "code",
   "execution_count": null,
   "metadata": {},
   "outputs": [],
   "source": [
    "Fault_positionX = crust_transition * u.kilometer\n",
    "### creates a layer every 5 km\n",
    "sin_function = np.sign(np.sin(GEO.dimensionalise(Model.swarm.data[:,1], u.kilometer)/(1.6 * u.kilometer)))\n",
    "\n",
    "Model.materialField.data[(sin_function>0) & (Model.swarm.data[:,0] < GEO.nd(Fault_positionX+15.*u.kilometer)) &  (Model.swarm.data[:,1] < GEO.nd(0.*u.kilometer))] = crust1.index\n",
    "Model.materialField.data[(sin_function<0) & (Model.swarm.data[:,0] < GEO.nd(Fault_positionX+15.*u.kilometer)) &  (Model.swarm.data[:,1] < GEO.nd(0.*u.kilometer))] = crust2.index\n",
    "\n",
    "Model.materialField.data[(sin_function>0) & (Model.swarm.data[:,0] >= GEO.nd(Fault_positionX+15.*u.kilometer)) &  (Model.swarm.data[:,1] < GEO.nd(0.*u.kilometer))] = crust3.index\n",
    "Model.materialField.data[(sin_function<0) & (Model.swarm.data[:,0] >= GEO.nd(Fault_positionX+15.*u.kilometer)) &  (Model.swarm.data[:,1] < GEO.nd(0.*u.kilometer))] = crust4.index"
   ]
  },
  {
   "cell_type": "code",
   "execution_count": null,
   "metadata": {},
   "outputs": [],
   "source": [
    "mantleLithosphere = Model.add_material(name=\"MantleLithosphere\", shape=GEO.shapes.Layer(top=-crustalthickness* u.kilometer, bottom=-100.0 * u.kilometer))\n",
    "mantle = Model.add_material(name=\"Mantle\", shape=GEO.shapes.Layer(top=mantleLithosphere.bottom, bottom=Model.bottom))"
   ]
  },
  {
   "cell_type": "code",
   "execution_count": null,
   "metadata": {},
   "outputs": [],
   "source": [
    "Sediment = Model.add_material(name=\"Sediment\")    "
   ]
  },
  {
   "cell_type": "markdown",
   "metadata": {},
   "source": [
    "### Material physical properties"
   ]
  },
  {
   "cell_type": "code",
   "execution_count": null,
   "metadata": {},
   "outputs": [],
   "source": [
    "air.capacity = 100. * u.joule / (u.kelvin * u.kilogram)"
   ]
  },
  {
   "cell_type": "code",
   "execution_count": null,
   "metadata": {},
   "outputs": [],
   "source": [
    "air.density = 1. * u.kilogram / u.metre**3\n",
    "mantleLithosphere.density = GEO.LinearDensity(3300. * u.kilogram / u.metre**3, thermalExpansivity=3e-5 / u.kelvin)\n",
    "mantle.density = GEO.LinearDensity(3300. * u.kilogram / u.metre**3, thermalExpansivity=3e-5 / u.kelvin)\n",
    "\n",
    "\n",
    "mantleLithosphere.radiogenicHeatProd = 0.00 * u.microwatt / u.meter**3\n",
    "mantle.radiogenicHeatProd = 0.00 * u.microwatt / u.meter**3"
   ]
  },
  {
   "cell_type": "code",
   "execution_count": null,
   "metadata": {},
   "outputs": [],
   "source": [
    "crust1.radiogenicHeatProd = 0. * u.microwatt / u.meter**3\n",
    "crust2.radiogenicHeatProd = 0. * u.microwatt / u.meter**3\n",
    "crust3.radiogenicHeatProd = 0. * u.microwatt / u.meter**3\n",
    "crust4.radiogenicHeatProd = 0. * u.microwatt / u.meter**3\n",
    "\n",
    "\n",
    "crust1.density = GEO.LinearDensity(2700. * u.kilogram / u.metre**3, thermalExpansivity=3e-5 / u.kelvin)\n",
    "crust2.density = GEO.LinearDensity(2700. * u.kilogram / u.metre**3, thermalExpansivity=3e-5 / u.kelvin)\n",
    "crust3.density = GEO.LinearDensity(2700. * u.kilogram / u.metre**3, thermalExpansivity=3e-5 / u.kelvin)\n",
    "crust4.density = GEO.LinearDensity(2700. * u.kilogram / u.metre**3, thermalExpansivity=3e-5 / u.kelvin)\n",
    "\n",
    "Sediment.density = GEO.LinearDensity(2600. * u.kilogram / u.metre**3, thermalExpansivity=3e-5 / u.kelvin)\n",
    "Sediment.radiogenicHeatProd = 0. * u.microwatt / u.meter**3"
   ]
  },
  {
   "cell_type": "code",
   "execution_count": null,
   "metadata": {},
   "outputs": [],
   "source": [
    "angle_D = 45 # in degrees\n",
    "Fault_PositionX_LAB = Fault_positionX + ((mantleLithosphere.top - mantleLithosphere.bottom) * math.tan(math.radians(angle_D)))\n",
    "\n",
    "FaultShape = GEO.shapes.Polygon(vertices=[(Fault_positionX, mantleLithosphere.top),\n",
    "                                        (Fault_positionX + 35.* u.kilometer, mantleLithosphere.top),\n",
    "                                        (Fault_PositionX_LAB+3.5* u.kilometer, mantleLithosphere.bottom),\n",
    "                                         (Fault_PositionX_LAB, mantleLithosphere.bottom)])\n",
    "\n",
    "Fault = Model.add_material(name=\"Fault\", shape=FaultShape)\n",
    "Fault.radiogenicHeatProd = 0.00 * u.microwatt / u.meter**3\n",
    "Fault.density  = GEO.LinearDensity(reference_density=3300. * u.kilogram / u.metre**3, thermalExpansivity=3e-5 / u.kelvin)"
   ]
  },
  {
   "cell_type": "markdown",
   "metadata": {},
   "source": [
    "# Define Viscosities\n",
    "\n",
    "The rheology library contains some commonly used rheologies stored in a python dictionary structure. We can list the keys defining the rheologies as follows:"
   ]
  },
  {
   "cell_type": "code",
   "execution_count": null,
   "metadata": {},
   "outputs": [],
   "source": [
    "rh = GEO.ViscousCreepRegistry()"
   ]
  },
  {
   "cell_type": "code",
   "execution_count": null,
   "metadata": {},
   "outputs": [],
   "source": [
    "combined_viscosity_mantle = GEO.CompositeViscosity([rh.Dry_Olivine_Diffusion_Hirth_and_Kohlstedt_2003, rh.Dry_Olivine_Dislocation_Hirth_and_Kohlstedt_2003])\n",
    "combined_viscosity_fault = GEO.CompositeViscosity([rh.Wet_Olivine_Diffusion_Hirth_and_Kohlstedt_2003, rh.Wet_Olivine_Dislocation_Hirth_and_Kohlstedt_2003])"
   ]
  },
  {
   "cell_type": "code",
   "execution_count": null,
   "metadata": {},
   "outputs": [],
   "source": [
    "Model.minViscosity = 1e19 * u.pascal * u.second\n",
    "Model.maxViscosity = 1e24 * u.pascal * u.second\n",
    "\n",
    "air.viscosity                = 1e19 * u.pascal * u.second\n",
    "\n",
    "\n",
    "mantleLithosphere.viscosity  = combined_viscosity_mantle\n",
    "mantle.viscosity             = combined_viscosity_mantle\n",
    "\n",
    "Fault.viscosity              = combined_viscosity_fault\n",
    "\n",
    "\n",
    "### Crust\n",
    "crust1.viscosity              = rh.Wet_Quartz_Dislocation_Tullis_et_al_2002\n",
    "crust2.viscosity              = rh.Wet_Quartz_Dislocation_Tullis_et_al_2002\n",
    "crust3.viscosity              = rh.Wet_Quartz_Dislocation_Tullis_et_al_2002\n",
    "crust4.viscosity              = rh.Wet_Quartz_Dislocation_Tullis_et_al_2002\n",
    "\n",
    "Sediment.viscosity            = rh.Wet_Quartz_Dislocation_Tullis_et_al_2002"
   ]
  },
  {
   "cell_type": "markdown",
   "metadata": {},
   "source": [
    "# Define Plasticity\n",
    "\n",
    "Plastic behavior is assigned using the same approach as for viscosities."
   ]
  },
  {
   "cell_type": "code",
   "execution_count": null,
   "metadata": {},
   "outputs": [],
   "source": [
    "pl = GEO.PlasticityRegistry()"
   ]
  },
  {
   "cell_type": "code",
   "execution_count": null,
   "metadata": {},
   "outputs": [],
   "source": [
    "Weak_crust_plasticity =  GEO.DruckerPrager(cohesion=10.* u.megapascal,\n",
    "                                     cohesionAfterSoftening=1.*u.megapascal,\n",
    "                                     frictionCoefficient=0.3,\n",
    "                                     frictionAfterSoftening=0.15,\n",
    "                                     epsilon1=0.5, epsilon2=1.5)\n",
    "Sediment_plasticity =  GEO.DruckerPrager(cohesion=10.* u.megapascal,\n",
    "                                     cohesionAfterSoftening=1.*u.megapascal,\n",
    "                                     frictionCoefficient=0.3,\n",
    "                                     frictionAfterSoftening=0.15,\n",
    "                                     epsilon1=0.5, epsilon2=1.5)\n",
    "\n",
    "\n",
    "\n",
    "Mantle_plasticity =  GEO.DruckerPrager(cohesion=10.* u.megapascal,\n",
    "                                     cohesionAfterSoftening=10.*u.megapascal,\n",
    "                                     frictionCoefficient=0.6,\n",
    "                                     frictionAfterSoftening=0.6,\n",
    "                                     epsilon1=0.5, epsilon2=1.5)\n",
    "\n",
    "Fault_plasticity = GEO.DruckerPrager(cohesion=10.* u.megapascal,\n",
    "                                     cohesionAfterSoftening=1.*u.megapascal,\n",
    "                                     frictionCoefficient=0.1,\n",
    "                                     frictionAfterSoftening=0.05,\n",
    "                                     epsilon1=0.5, epsilon2=1.5)"
   ]
  },
  {
   "cell_type": "code",
   "execution_count": null,
   "metadata": {},
   "outputs": [],
   "source": [
    "mantleLithosphere.plasticity  = Mantle_plasticity\n",
    "mantle.plasticity             = Mantle_plasticity\n",
    "Fault.plasticity              = Fault_plasticity"
   ]
  },
  {
   "cell_type": "code",
   "execution_count": null,
   "metadata": {},
   "outputs": [],
   "source": [
    "crust1.plasticity              = Weak_crust_plasticity\n",
    "crust2.plasticity              = Weak_crust_plasticity\n",
    "crust3.plasticity              = Weak_crust_plasticity\n",
    "crust4.plasticity              = Weak_crust_plasticity\n",
    "\n",
    "\n",
    "Sediment.plasticity            = Sediment_plasticity"
   ]
  },
  {
   "cell_type": "markdown",
   "metadata": {},
   "source": [
    "## Temperature Boundary Conditions"
   ]
  },
  {
   "cell_type": "code",
   "execution_count": null,
   "metadata": {},
   "outputs": [],
   "source": [
    "Model.set_temperatureBCs(top=273.15 * u.degK, \n",
    "                         bottom=1573.15 * u.degK,\n",
    "                         materials=[(air, 273.15 * u.degK)])"
   ]
  },
  {
   "cell_type": "markdown",
   "metadata": {},
   "source": [
    "## Velocity Boundary Conditions"
   ]
  },
  {
   "cell_type": "code",
   "execution_count": null,
   "metadata": {},
   "outputs": [],
   "source": [
    "Model.velocityField.data[:] = 0."
   ]
  },
  {
   "cell_type": "code",
   "execution_count": null,
   "metadata": {},
   "outputs": [],
   "source": [
    "def UpdateVelocity():\n",
    "    global conv_vel \n",
    "    \n",
    "    conv_vel = conv_vel * u.centimeter/u.year\n",
    "\n",
    "    conditionsA = [(Model.y < GEO.nd(0. * u.kilometre), GEO.nd(conv_vel)),\n",
    "                   (True, GEO.nd(conv_vel) + Model.y * (GEO.nd((-2. * conv_vel) / GEO.nd(Sticky_air * u.kilometer))))]\n",
    "\n",
    "\n",
    "    Left_wall_vel_top_changed = fn.branching.conditional(conditionsA)\n",
    "\n",
    "## Test air boundary condition on side wall\n",
    "\n",
    "\n",
    "    conditionsB = [(Model.y > GEO.nd(mantleLithosphere.bottom), Left_wall_vel_top_changed),\n",
    "                   (True, (GEO.nd(conv_vel) + (Model.y-GEO.nd(mantleLithosphere.bottom)) * (GEO.nd(conv_vel) / GEO.nd(Depth_of_box+mantleLithosphere.bottom))))]\n",
    "\n",
    "\n",
    "    Left_wall_vel = fn.branching.conditional(conditionsB)\n",
    "\n",
    "\n",
    "    Model.set_velocityBCs(left = [Left_wall_vel, None],\n",
    "                      right=[0., None],\n",
    "                      top = [None, 0.],\n",
    "                        bottom = [None, None])\n",
    "\n",
    "\n",
    "UpdateVelocity()\n",
    "\n",
    "\n"
   ]
  },
  {
   "cell_type": "markdown",
   "metadata": {},
   "source": [
    "### Grid Tracers"
   ]
  },
  {
   "cell_type": "code",
   "execution_count": null,
   "metadata": {},
   "outputs": [],
   "source": [
    "x_c, y_c = GEO.circles_grid(radius=2.0*u.kilometer, \n",
    "                    minCoord=[Model.minCoord[0], mantleLithosphere.top], \n",
    "                    maxCoord=[Model.maxCoord[0], 0.*u.kilometer])\n",
    "\n",
    "FSE_Crust = Model.add_passive_tracers(name=\"FSE_Crust\", vertices=[x_c, y_c])\n",
    "\n",
    "FSE_Crust.add_tracked_field(Model.pressureField,\n",
    "                              name=\"tracers_press\",\n",
    "                              units=u.megapascal,\n",
    "                              dataType=\"double\")\n",
    "\n",
    "FSE_Crust.add_tracked_field(Model.temperature,\n",
    "                              name=\"tracers_temp\",\n",
    "                              units=u.degK,\n",
    "                              dataType=\"double\")\n",
    "\n",
    "FSE_Crust.add_tracked_field(Model.strainRate_2ndInvariant,\n",
    "                              name=\"tracers_SR\",\n",
    "                                units=1./u.second,\n",
    "                              dataType=\"double\")\n"
   ]
  },
  {
   "cell_type": "code",
   "execution_count": null,
   "metadata": {
    "tags": [
     "analysis"
    ]
   },
   "outputs": [],
   "source": [
    "Fig = visualisation.Figure(figsize=(1200,400), title=\"Material Field\", quality=0)\n",
    "Fig.Points(Model.swarm, Model.materialField, fn_size=2.0)\n",
    "Fig.show()"
   ]
  },
  {
   "cell_type": "markdown",
   "metadata": {},
   "source": [
    "Viscous dissipation calc on the swarm and mesh, for integration over the crust area"
   ]
  },
  {
   "cell_type": "markdown",
   "metadata": {},
   "source": [
    "# Compute initial condition"
   ]
  },
  {
   "cell_type": "code",
   "execution_count": null,
   "metadata": {},
   "outputs": [],
   "source": [
    "Model.init_model()"
   ]
  },
  {
   "cell_type": "code",
   "execution_count": null,
   "metadata": {},
   "outputs": [],
   "source": [
    "### Custom temp gradient\n",
    "\n",
    "for index, coord in enumerate(Model.mesh.data):\n",
    "### Temperature in air\n",
    "    if coord[1] > 0.:\n",
    "        T = (273.15 * u.kelvin)\n",
    "    #### Temperature across top 10 km of crust\n",
    "    elif coord[1] < 0. and coord[1] >= GEO.nd(-10*u.kilometer):\n",
    "            T = (273.15 * u.kelvin + (-1*GEO.dimensionalise(coord[1], u.kilometer) * 25. * u.kelvin/u.kilometer))\n",
    "    #### Temperature for the lower crust and lithosphere\n",
    "    elif coord[1] < GEO.nd(-10*u.kilometer) and coord[1] >= GEO.nd(mantleLithosphere.bottom):\n",
    "            T = ((273.15+130.0) * u.kelvin + (-1*GEO.dimensionalise(coord[1], u.kilometer) * 12. * u.kelvin/u.kilometer))\n",
    "#### Temperature for the Upper Mantle\n",
    "    elif coord[1] < GEO.nd(mantleLithosphere.bottom):\n",
    "        T = 1573.15* u.degK \n",
    "\n",
    "    Model.temperature.data[index] = GEO.nd(T)\n",
    "    "
   ]
  },
  {
   "cell_type": "markdown",
   "metadata": {},
   "source": [
    "### Surface processes"
   ]
  },
  {
   "cell_type": "code",
   "execution_count": null,
   "metadata": {},
   "outputs": [],
   "source": [
    "# Model.surfaceProcesses = diffusiveSurfaceErosion(\n",
    "#     airIndex=air.index,\n",
    "#     sedimentIndex=Sediment.index,\n",
    "#     D= 100.0*u.meter**2/u.year,\n",
    "#     dx=5 * u.kilometer,\n",
    "#     surfaceElevation=air.bottom\n",
    "# )"
   ]
  },
  {
   "cell_type": "code",
   "execution_count": null,
   "metadata": {},
   "outputs": [],
   "source": [
    "Model.surfaceProcesses = velocitySurfaceErosion(\n",
    "    airIndex=air.index,\n",
    "    sedimentIndex=Sediment.index,\n",
    "    sedimentationRate= 1.0*u.millimeter / u.year,\n",
    "    erosionRate= 0.5*u.millimeter / u.year,\n",
    "    dx=5 * u.kilometer,\n",
    "    surfaceElevation=0.0*u.kilometer\n",
    ")"
   ]
  },
  {
   "cell_type": "markdown",
   "metadata": {},
   "source": [
    "### Additional stuff at checkpointing"
   ]
  },
  {
   "cell_type": "code",
   "execution_count": null,
   "metadata": {},
   "outputs": [],
   "source": [
    "Model.solver.set_inner_method(\"mg\")\n",
    "Model.solver.set_penalty(1e-3)"
   ]
  },
  {
   "cell_type": "markdown",
   "metadata": {},
   "source": [
    "# Run the Model"
   ]
  },
  {
   "cell_type": "code",
   "execution_count": null,
   "metadata": {
    "scrolled": true
   },
   "outputs": [],
   "source": [
    "if restart == True:\n",
    "    Model.run_for(Total_Time * u.megayears, checkpoint_interval=The_Checkpoint_interval*u.megayears, restartStep=-1, restartDir=RestartDirectory)\n",
    "else:   \n",
    "    Model.run_for(Total_Time * u.megayears, checkpoint_interval=The_Checkpoint_interval*u.megayears)\n",
    "    \n",
    "    \n",
    "    "
   ]
  },
  {
   "cell_type": "code",
   "execution_count": null,
   "metadata": {},
   "outputs": [],
   "source": []
  }
 ],
 "metadata": {
  "kernelspec": {
   "display_name": "Python 3",
   "language": "python",
   "name": "python3"
  },
  "language_info": {
   "codemirror_mode": {
    "name": "ipython",
    "version": 3
   },
   "file_extension": ".py",
   "mimetype": "text/x-python",
   "name": "python",
   "nbconvert_exporter": "python",
   "pygments_lexer": "ipython3",
   "version": "3.7.3"
  }
 },
 "nbformat": 4,
 "nbformat_minor": 2
}
